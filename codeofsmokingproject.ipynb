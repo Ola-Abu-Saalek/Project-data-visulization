{
 "cells": [
  {
   "cell_type": "code",
   "execution_count": 5,
   "id": "7fd93515",
   "metadata": {},
   "outputs": [
    {
     "data": {
      "text/html": [
       "<div>\n",
       "<style scoped>\n",
       "    .dataframe tbody tr th:only-of-type {\n",
       "        vertical-align: middle;\n",
       "    }\n",
       "\n",
       "    .dataframe tbody tr th {\n",
       "        vertical-align: top;\n",
       "    }\n",
       "\n",
       "    .dataframe thead th {\n",
       "        text-align: right;\n",
       "    }\n",
       "</style>\n",
       "<table border=\"1\" class=\"dataframe\">\n",
       "  <thead>\n",
       "    <tr style=\"text-align: right;\">\n",
       "      <th></th>\n",
       "      <th>id</th>\n",
       "      <th>age</th>\n",
       "      <th>height(cm)</th>\n",
       "      <th>weight(kg)</th>\n",
       "      <th>waist(cm)</th>\n",
       "      <th>eyesight(left)</th>\n",
       "      <th>eyesight(right)</th>\n",
       "      <th>hearing(left)</th>\n",
       "      <th>hearing(right)</th>\n",
       "      <th>systolic</th>\n",
       "      <th>relaxation</th>\n",
       "      <th>fasting blood sugar</th>\n",
       "      <th>Cholesterol</th>\n",
       "      <th>triglyceride</th>\n",
       "      <th>HDL</th>\n",
       "      <th>LDL</th>\n",
       "      <th>hemoglobin</th>\n",
       "      <th>Urine protein</th>\n",
       "      <th>serum creatinine</th>\n",
       "      <th>AST</th>\n",
       "      <th>ALT</th>\n",
       "      <th>Gtp</th>\n",
       "      <th>dental caries</th>\n",
       "    </tr>\n",
       "  </thead>\n",
       "  <tbody>\n",
       "    <tr>\n",
       "      <th>0</th>\n",
       "      <td>159256</td>\n",
       "      <td>40</td>\n",
       "      <td>165</td>\n",
       "      <td>70</td>\n",
       "      <td>84.0</td>\n",
       "      <td>1.2</td>\n",
       "      <td>1.2</td>\n",
       "      <td>1</td>\n",
       "      <td>1</td>\n",
       "      <td>130</td>\n",
       "      <td>89</td>\n",
       "      <td>107</td>\n",
       "      <td>200</td>\n",
       "      <td>186</td>\n",
       "      <td>49</td>\n",
       "      <td>115</td>\n",
       "      <td>14.2</td>\n",
       "      <td>1</td>\n",
       "      <td>0.9</td>\n",
       "      <td>19</td>\n",
       "      <td>25</td>\n",
       "      <td>32</td>\n",
       "      <td>0</td>\n",
       "    </tr>\n",
       "    <tr>\n",
       "      <th>1</th>\n",
       "      <td>159257</td>\n",
       "      <td>80</td>\n",
       "      <td>160</td>\n",
       "      <td>60</td>\n",
       "      <td>93.0</td>\n",
       "      <td>1.0</td>\n",
       "      <td>1.0</td>\n",
       "      <td>2</td>\n",
       "      <td>2</td>\n",
       "      <td>144</td>\n",
       "      <td>72</td>\n",
       "      <td>93</td>\n",
       "      <td>172</td>\n",
       "      <td>158</td>\n",
       "      <td>35</td>\n",
       "      <td>104</td>\n",
       "      <td>13.0</td>\n",
       "      <td>1</td>\n",
       "      <td>1.1</td>\n",
       "      <td>20</td>\n",
       "      <td>12</td>\n",
       "      <td>24</td>\n",
       "      <td>0</td>\n",
       "    </tr>\n",
       "    <tr>\n",
       "      <th>2</th>\n",
       "      <td>159258</td>\n",
       "      <td>60</td>\n",
       "      <td>170</td>\n",
       "      <td>70</td>\n",
       "      <td>86.5</td>\n",
       "      <td>0.6</td>\n",
       "      <td>0.7</td>\n",
       "      <td>1</td>\n",
       "      <td>1</td>\n",
       "      <td>117</td>\n",
       "      <td>75</td>\n",
       "      <td>92</td>\n",
       "      <td>161</td>\n",
       "      <td>173</td>\n",
       "      <td>39</td>\n",
       "      <td>88</td>\n",
       "      <td>15.4</td>\n",
       "      <td>1</td>\n",
       "      <td>1.4</td>\n",
       "      <td>38</td>\n",
       "      <td>60</td>\n",
       "      <td>36</td>\n",
       "      <td>0</td>\n",
       "    </tr>\n",
       "    <tr>\n",
       "      <th>3</th>\n",
       "      <td>159259</td>\n",
       "      <td>40</td>\n",
       "      <td>160</td>\n",
       "      <td>50</td>\n",
       "      <td>67.0</td>\n",
       "      <td>0.3</td>\n",
       "      <td>0.4</td>\n",
       "      <td>1</td>\n",
       "      <td>1</td>\n",
       "      <td>116</td>\n",
       "      <td>62</td>\n",
       "      <td>91</td>\n",
       "      <td>213</td>\n",
       "      <td>47</td>\n",
       "      <td>75</td>\n",
       "      <td>128</td>\n",
       "      <td>14.5</td>\n",
       "      <td>1</td>\n",
       "      <td>0.6</td>\n",
       "      <td>25</td>\n",
       "      <td>18</td>\n",
       "      <td>10</td>\n",
       "      <td>1</td>\n",
       "    </tr>\n",
       "    <tr>\n",
       "      <th>4</th>\n",
       "      <td>159260</td>\n",
       "      <td>40</td>\n",
       "      <td>170</td>\n",
       "      <td>75</td>\n",
       "      <td>89.4</td>\n",
       "      <td>1.0</td>\n",
       "      <td>0.9</td>\n",
       "      <td>1</td>\n",
       "      <td>1</td>\n",
       "      <td>132</td>\n",
       "      <td>94</td>\n",
       "      <td>79</td>\n",
       "      <td>170</td>\n",
       "      <td>100</td>\n",
       "      <td>39</td>\n",
       "      <td>123</td>\n",
       "      <td>16.5</td>\n",
       "      <td>1</td>\n",
       "      <td>1.0</td>\n",
       "      <td>30</td>\n",
       "      <td>39</td>\n",
       "      <td>27</td>\n",
       "      <td>1</td>\n",
       "    </tr>\n",
       "  </tbody>\n",
       "</table>\n",
       "</div>"
      ],
      "text/plain": [
       "       id  age  height(cm)  weight(kg)  waist(cm)  eyesight(left)  \\\n",
       "0  159256   40         165          70       84.0             1.2   \n",
       "1  159257   80         160          60       93.0             1.0   \n",
       "2  159258   60         170          70       86.5             0.6   \n",
       "3  159259   40         160          50       67.0             0.3   \n",
       "4  159260   40         170          75       89.4             1.0   \n",
       "\n",
       "   eyesight(right)  hearing(left)  hearing(right)  systolic  relaxation  \\\n",
       "0              1.2              1               1       130          89   \n",
       "1              1.0              2               2       144          72   \n",
       "2              0.7              1               1       117          75   \n",
       "3              0.4              1               1       116          62   \n",
       "4              0.9              1               1       132          94   \n",
       "\n",
       "   fasting blood sugar  Cholesterol  triglyceride  HDL  LDL  hemoglobin  \\\n",
       "0                  107          200           186   49  115        14.2   \n",
       "1                   93          172           158   35  104        13.0   \n",
       "2                   92          161           173   39   88        15.4   \n",
       "3                   91          213            47   75  128        14.5   \n",
       "4                   79          170           100   39  123        16.5   \n",
       "\n",
       "   Urine protein  serum creatinine  AST  ALT  Gtp  dental caries  \n",
       "0              1               0.9   19   25   32              0  \n",
       "1              1               1.1   20   12   24              0  \n",
       "2              1               1.4   38   60   36              0  \n",
       "3              1               0.6   25   18   10              1  \n",
       "4              1               1.0   30   39   27              1  "
      ]
     },
     "execution_count": 5,
     "metadata": {},
     "output_type": "execute_result"
    }
   ],
   "source": [
    "#Load pandas library\n",
    "#1. Read the dataset(test) from the URL into the pandas DataFrame.\n",
    "import pandas as pd\n",
    "import seaborn as sns\n",
    "#URL of the dataset\n",
    "smoking_url =r\"C:\\Users\\user\\Downloads\\official_dataset_smoking\\test.csv\"\n",
    "smoking_df = pd.read_csv(smoking_url)\n",
    "# Since the dataset is available in seaborn, we can alternatively read it in using the following line of code\n",
    "#athlete_events_df = sns.load_dataset('athlete_events')\n",
    "#smoking_df.head(50)#or .tail()\n",
    "pd.set_option('display.max_columns', None)#for show all columns\n",
    "smoking_df.head()"
   ]
  },
  {
   "cell_type": "code",
   "execution_count": 9,
   "id": "4cd130b6",
   "metadata": {},
   "outputs": [
    {
     "data": {
      "image/png": "[encoded data removed]",
      "text/plain": [
       "<Figure size 640x480 with 1 Axes>"
      ]
     },
     "metadata": {},
     "output_type": "display_data"
    }
   ],
   "source": [
    "import networkx as nx\n",
    "import matplotlib.pyplot as plt\n",
    "# إعداد الشبكة\n",
    "G = nx.Graph()\n",
    "# إضافة عقد (nodes)\n",
    "G.add_nodes_from(['age','systolic','fasting blood sugar','Cholesterol','weight(kg)','fasting blood sugar','eyesight(right)',\n",
    "                 'hearing(right)','relaxation','triglyceride','HDL','LDL','hemoglobin','serum creatinine','AST','ALT','Gtp',\n",
    "                  'dental caries'])\n",
    "# إضافة ربطات (edges)\n",
    "# إضافة ربطات (edges)\n",
    "G.add_edges_from([\n",
    "    ('age', 'systolic'),\n",
    "    ('age', 'fasting blood sugar'),\n",
    "    ('age', 'Cholesterol'),\n",
    "    ('age', 'weight(kg)'),\n",
    "    ('age', 'fasting blood sugar'),\n",
    "    ('age', 'eyesight(right)'),\n",
    "    ('age', 'eyesight(left)'),\n",
    "    ('age', 'hearing(right)'),\n",
    "    ('age', 'hearing(left)'),\n",
    "    ('age', 'relaxation'),\n",
    "    ('age', 'triglyceride'),\n",
    "    ('age', 'HDL'),\n",
    "    ('age', 'LDL'),\n",
    "    ('age', 'hemoglobin'),\n",
    "    ('age', 'serum creatinine'),\n",
    "    ('age', 'Urine protein'),\n",
    "    ('age', 'AST'),\n",
    "    ('age', 'ALT'),\n",
    "    ('age', 'dental caries'),\n",
    "    \n",
    "    ('systolic','relaxation'),\n",
    "    ('systolic','fasting blood sugar'),\n",
    "    ('systolic','Cholesterol'),\n",
    "    ('systolic','triglyceride'),\n",
    "    ('systolic','HDL'),\n",
    "    ('systolic','LDL'),\n",
    "    ('systolic','hemoglobin'),\n",
    "    ('systolic','Urine protein'),\n",
    "    ('systolic','AST'),\n",
    "    ('systolic','weight(kg)'),\n",
    "    ('systolic','waist(cm)'),\n",
    "    ('systolic','eyesight(right)'),\n",
    "    ('systolic','eyesight(left)'),\n",
    "      \n",
    "    ('fasting blood sugar','Cholesterol'),\n",
    "    ('fasting blood sugar','triglyceride'),\n",
    "    ('fasting blood sugar','HDL'),\n",
    "    ('fasting blood sugar','hemoglobin'),\n",
    "    ('fasting blood sugar','AST'),\n",
    "    ('fasting blood sugar','ALT'),\n",
    "    ('fasting blood sugar','weight(kg)'),\n",
    "    ('fasting blood sugar','waist(cm)'),\n",
    "    ('fasting blood sugar','hearing(right)'),\n",
    "    ('fasting blood sugar','hearing(left)'),\n",
    "    ('fasting blood sugar','eyesight(right)'),\n",
    "    ('fasting blood sugar','eyesight(left)'),\n",
    "    ('fasting blood sugar','dental caries'),\n",
    "   \n",
    "    ('Cholesterol','triglyceride'),\n",
    "    ('Cholesterol','HDL'),\n",
    "    ('Cholesterol','LDL'),\n",
    "    ('Cholesterol','ALT'),\n",
    "    ('Cholesterol','eyesight(right)'),\n",
    "    ('Cholesterol','eyesight(left)'),\n",
    "    ('Cholesterol','hearing(right)'),\n",
    "    ('Cholesterol','hearing(left)'),\n",
    "    \n",
    "    ('triglyceride','HDL'),\n",
    "    ('triglyceride','hemoglobin'),\n",
    "    ('triglyceride','ALT'),\n",
    "    ('triglyceride','weight(kg)'),\n",
    "    ('triglyceride','waist(cm)'),\n",
    "    \n",
    "    ('HDL','LDL'),\n",
    "    ('HDL','ALT'),\n",
    "    ('HDL','weight(kg)'),\n",
    "    ('HDL','waist(cm)'),\n",
    "    \n",
    "    ('LDL','Cholesterol'),\n",
    "    ('LDL','weight(kg)'),\n",
    "    ('LDL','waist(cm)')\n",
    "   \n",
    "\n",
    "])\n",
    "\n",
    "# رسم الشبكة\n",
    "#pos = nx.spring_layout(G,k=1.9)  # يمكنك تجربة ترتيبات مختلفة\n",
    "pos = nx.shell_layout(G)\n",
    "nx.draw(G, pos, with_labels=True, node_size=400, node_color='pink', font_size=8, font_color='black', font_weight='bold', edge_color='gray', linewidths=0.5)\n",
    "# عرض الرسم\n",
    "plt.title('Network plot show relationships between attributes')\n",
    "plt.show()\n",
    "\n",
    "\n",
    "\n"
   ]
  },
  {
   "cell_type": "code",
   "execution_count": 11,
   "id": "c1d16608",
   "metadata": {},
   "outputs": [
    {
     "data": {
      "application/vnd.plotly.v1+json": {
       "config": {
        "plotlyServerURL": "https://plot.ly"
       },
       "data": [
        {
         "line": {
          "color": "gray",
          "width": 1
         },
         "mode": "lines",
         "type": "scatter",
         "x": [
          -1,
          -0.955572783946991,
          null,
          -1,
          -0.8262386918067932,
          null,
          -1,
          -0.6234896183013916,
          null,
          -1,
          -0.3653410077095032,
          null,
          -1,
          -0.0747297927737236,
          null,
          -1,
          -0.3653408885002136,
          null,
          -1,
          0.22252103686332703,
          null,
          -1,
          -0.6234895586967468,
          null,
          -1,
          0.49999991059303284,
          null,
          -1,
          0.7330520153045654,
          null,
          -1,
          0.9009688496589661,
          null,
          -1,
          0.9888308644294739,
          null,
          -1,
          0.9888308048248291,
          null,
          -1,
          0.9009689092636108,
          null,
          -1,
          -0.8262389898300171,
          null,
          -1,
          0.7330517768859863,
          null,
          -1,
          0.49999961256980896,
          null,
          -1,
          -0.07473014295101166,
          null,
          -0.955572783946991,
          0.49999991059303284,
          null,
          -0.955572783946991,
          -0.8262386918067932,
          null,
          -0.955572783946991,
          -0.6234896183013916,
          null,
          -0.955572783946991,
          0.7330520153045654,
          null,
          -0.955572783946991,
          0.9009688496589661,
          null,
          -0.955572783946991,
          0.9888308644294739,
          null,
          -0.955572783946991,
          0.9888308048248291,
          null,
          -0.955572783946991,
          -0.8262389898300171,
          null,
          -0.955572783946991,
          0.7330517768859863,
          null,
          -0.955572783946991,
          -0.3653410077095032,
          null,
          -0.955572783946991,
          -0.9555728435516357,
          null,
          -0.955572783946991,
          -0.0747297927737236,
          null,
          -0.955572783946991,
          -0.3653408885002136,
          null,
          -0.8262386918067932,
          -0.6234896183013916,
          null,
          -0.8262386918067932,
          0.7330520153045654,
          null,
          -0.8262386918067932,
          0.9009688496589661,
          null,
          -0.8262386918067932,
          0.9888308048248291,
          null,
          -0.8262386918067932,
          0.7330517768859863,
          null,
          -0.8262386918067932,
          0.49999961256980896,
          null,
          -0.8262386918067932,
          -0.3653410077095032,
          null,
          -0.8262386918067932,
          -0.9555728435516357,
          null,
          -0.8262386918067932,
          0.22252103686332703,
          null,
          -0.8262386918067932,
          -0.6234895586967468,
          null,
          -0.8262386918067932,
          -0.0747297927737236,
          null,
          -0.8262386918067932,
          -0.3653408885002136,
          null,
          -0.8262386918067932,
          -0.07473014295101166,
          null,
          -0.6234896183013916,
          0.7330520153045654,
          null,
          -0.6234896183013916,
          0.9009688496589661,
          null,
          -0.6234896183013916,
          0.9888308644294739,
          null,
          -0.6234896183013916,
          0.49999961256980896,
          null,
          -0.6234896183013916,
          -0.0747297927737236,
          null,
          -0.6234896183013916,
          -0.3653408885002136,
          null,
          -0.6234896183013916,
          0.22252103686332703,
          null,
          -0.6234896183013916,
          -0.6234895586967468,
          null,
          -0.3653410077095032,
          0.7330520153045654,
          null,
          -0.3653410077095032,
          0.9009688496589661,
          null,
          -0.3653410077095032,
          0.9888308644294739,
          null,
          0.7330520153045654,
          0.9009688496589661,
          null,
          0.7330520153045654,
          0.9888308048248291,
          null,
          0.7330520153045654,
          0.49999961256980896,
          null,
          0.7330520153045654,
          -0.9555728435516357,
          null,
          0.9009688496589661,
          0.9888308644294739,
          null,
          0.9009688496589661,
          0.49999961256980896,
          null,
          0.9009688496589661,
          -0.9555728435516357,
          null,
          0.9888308644294739,
          -0.9555728435516357,
          null
         ],
         "y": [
          -8.742277657347586e-08,
          -0.29475530982017517,
          null,
          -8.742277657347586e-08,
          -0.5633201599121094,
          null,
          -8.742277657347586e-08,
          -0.7818316221237183,
          null,
          -8.742277657347586e-08,
          -0.9308737516403198,
          null,
          -8.742277657347586e-08,
          -0.9972038269042969,
          null,
          -8.742277657347586e-08,
          0.9308738112449646,
          null,
          -8.742277657347586e-08,
          -0.9749279022216797,
          null,
          -8.742277657347586e-08,
          0.781831681728363,
          null,
          -8.742277657347586e-08,
          -0.866025447845459,
          null,
          -8.742277657347586e-08,
          -0.6801726222038269,
          null,
          -8.742277657347586e-08,
          -0.43388375639915466,
          null,
          -8.742277657347586e-08,
          -0.14904199540615082,
          null,
          -8.742277657347586e-08,
          0.14904235303401947,
          null,
          -8.742277657347586e-08,
          0.4338836371898651,
          null,
          -8.742277657347586e-08,
          0.563319742679596,
          null,
          -8.742277657347586e-08,
          0.680172860622406,
          null,
          -8.742277657347586e-08,
          0.8660256266593933,
          null,
          -8.742277657347586e-08,
          0.9972037672996521,
          null,
          -0.29475530982017517,
          -0.866025447845459,
          null,
          -0.29475530982017517,
          -0.5633201599121094,
          null,
          -0.29475530982017517,
          -0.7818316221237183,
          null,
          -0.29475530982017517,
          -0.6801726222038269,
          null,
          -0.29475530982017517,
          -0.43388375639915466,
          null,
          -0.29475530982017517,
          -0.14904199540615082,
          null,
          -0.29475530982017517,
          0.14904235303401947,
          null,
          -0.29475530982017517,
          0.563319742679596,
          null,
          -0.29475530982017517,
          0.680172860622406,
          null,
          -0.29475530982017517,
          -0.9308737516403198,
          null,
          -0.29475530982017517,
          0.2947549521923065,
          null,
          -0.29475530982017517,
          -0.9972038269042969,
          null,
          -0.29475530982017517,
          0.9308738112449646,
          null,
          -0.5633201599121094,
          -0.7818316221237183,
          null,
          -0.5633201599121094,
          -0.6801726222038269,
          null,
          -0.5633201599121094,
          -0.43388375639915466,
          null,
          -0.5633201599121094,
          0.14904235303401947,
          null,
          -0.5633201599121094,
          0.680172860622406,
          null,
          -0.5633201599121094,
          0.8660256266593933,
          null,
          -0.5633201599121094,
          -0.9308737516403198,
          null,
          -0.5633201599121094,
          0.2947549521923065,
          null,
          -0.5633201599121094,
          -0.9749279022216797,
          null,
          -0.5633201599121094,
          0.781831681728363,
          null,
          -0.5633201599121094,
          -0.9972038269042969,
          null,
          -0.5633201599121094,
          0.9308738112449646,
          null,
          -0.5633201599121094,
          0.9972037672996521,
          null,
          -0.7818316221237183,
          -0.6801726222038269,
          null,
          -0.7818316221237183,
          -0.43388375639915466,
          null,
          -0.7818316221237183,
          -0.14904199540615082,
          null,
          -0.7818316221237183,
          0.8660256266593933,
          null,
          -0.7818316221237183,
          -0.9972038269042969,
          null,
          -0.7818316221237183,
          0.9308738112449646,
          null,
          -0.7818316221237183,
          -0.9749279022216797,
          null,
          -0.7818316221237183,
          0.781831681728363,
          null,
          -0.9308737516403198,
          -0.6801726222038269,
          null,
          -0.9308737516403198,
          -0.43388375639915466,
          null,
          -0.9308737516403198,
          -0.14904199540615082,
          null,
          -0.6801726222038269,
          -0.43388375639915466,
          null,
          -0.6801726222038269,
          0.14904235303401947,
          null,
          -0.6801726222038269,
          0.8660256266593933,
          null,
          -0.6801726222038269,
          0.2947549521923065,
          null,
          -0.43388375639915466,
          -0.14904199540615082,
          null,
          -0.43388375639915466,
          0.8660256266593933,
          null,
          -0.43388375639915466,
          0.2947549521923065,
          null,
          -0.14904199540615082,
          0.2947549521923065,
          null
         ]
        },
        {
         "hoverinfo": "text",
         "marker": {
          "color": "pink",
          "size": 10
         },
         "mode": "markers",
         "text": [
          "age",
          "systolic",
          "fasting blood sugar",
          "Cholesterol",
          "weight(kg)",
          "eyesight(right)",
          "hearing(right)",
          "relaxation",
          "triglyceride",
          "HDL",
          "LDL",
          "hemoglobin",
          "serum creatinine",
          "AST",
          "ALT",
          "Gtp",
          "dental caries",
          "eyesight(left)",
          "hearing(left)",
          "Urine protein",
          "waist(cm)"
         ],
         "type": "scatter",
         "x": [
          -1,
          -0.955572783946991,
          -0.8262386918067932,
          -0.6234896183013916,
          -0.3653410077095032,
          -0.0747297927737236,
          0.22252103686332703,
          0.49999991059303284,
          0.7330520153045654,
          0.9009688496589661,
          0.9888308644294739,
          0.9888308048248291,
          0.9009689092636108,
          0.7330517768859863,
          0.49999961256980896,
          0.22252069413661957,
          -0.07473014295101166,
          -0.3653408885002136,
          -0.6234895586967468,
          -0.8262389898300171,
          -0.9555728435516357
         ],
         "y": [
          -8.742277657347586e-08,
          -0.29475530982017517,
          -0.5633201599121094,
          -0.7818316221237183,
          -0.9308737516403198,
          -0.9972038269042969,
          -0.9749279022216797,
          -0.866025447845459,
          -0.6801726222038269,
          -0.43388375639915466,
          -0.14904199540615082,
          0.14904235303401947,
          0.4338836371898651,
          0.680172860622406,
          0.8660256266593933,
          0.9749279618263245,
          0.9972037672996521,
          0.9308738112449646,
          0.781831681728363,
          0.563319742679596,
          0.2947549521923065
         ]
        }
       ],
       "layout": {
        "hovermode": "closest",
        "showlegend": false,
        "template": {
         "data": {
          "bar": [
           {
            "error_x": {
             "color": "#2a3f5f"
            },
            "error_y": {
             "color": "#2a3f5f"
            },
            "marker": {
             "line": {
              "color": "#E5ECF6",
              "width": 0.5
             },
             "pattern": {
              "fillmode": "overlay",
              "size": 10,
              "solidity": 0.2
             }
            },
            "type": "bar"
           }
          ],
          "barpolar": [
           {
            "marker": {
             "line": {
              "color": "#E5ECF6",
              "width": 0.5
             },
             "pattern": {
              "fillmode": "overlay",
              "size": 10,
              "solidity": 0.2
             }
            },
            "type": "barpolar"
           }
          ],
          "carpet": [
           {
            "aaxis": {
             "endlinecolor": "#2a3f5f",
             "gridcolor": "white",
             "linecolor": "white",
             "minorgridcolor": "white",
             "startlinecolor": "#2a3f5f"
            },
            "baxis": {
             "endlinecolor": "#2a3f5f",
             "gridcolor": "white",
             "linecolor": "white",
             "minorgridcolor": "white",
             "startlinecolor": "#2a3f5f"
            },
            "type": "carpet"
           }
          ],
          "choropleth": [
           {
            "colorbar": {
             "outlinewidth": 0,
             "ticks": ""
            },
            "type": "choropleth"
           }
          ],
          "contour": [
           {
            "colorbar": {
             "outlinewidth": 0,
             "ticks": ""
            },
            "colorscale": [
             [
              0,
              "#0d0887"
             ],
             [
              0.1111111111111111,
              "#46039f"
             ],
             [
              0.2222222222222222,
              "#7201a8"
             ],
             [
              0.3333333333333333,
              "#9c179e"
             ],
             [
              0.4444444444444444,
              "#bd3786"
             ],
             [
              0.5555555555555556,
              "#d8576b"
             ],
             [
              0.6666666666666666,
              "#ed7953"
             ],
             [
              0.7777777777777778,
              "#fb9f3a"
             ],
             [
              0.8888888888888888,
              "#fdca26"
             ],
             [
              1,
              "#f0f921"
             ]
            ],
            "type": "contour"
           }
          ],
          "contourcarpet": [
           {
            "colorbar": {
             "outlinewidth": 0,
             "ticks": ""
            },
            "type": "contourcarpet"
           }
          ],
          "heatmap": [
           {
            "colorbar": {
             "outlinewidth": 0,
             "ticks": ""
            },
            "colorscale": [
             [
              0,
              "#0d0887"
             ],
             [
              0.1111111111111111,
              "#46039f"
             ],
             [
              0.2222222222222222,
              "#7201a8"
             ],
             [
              0.3333333333333333,
              "#9c179e"
             ],
             [
              0.4444444444444444,
              "#bd3786"
             ],
             [
              0.5555555555555556,
              "#d8576b"
             ],
             [
              0.6666666666666666,
              "#ed7953"
             ],
             [
              0.7777777777777778,
              "#fb9f3a"
             ],
             [
              0.8888888888888888,
              "#fdca26"
             ],
             [
              1,
              "#f0f921"
             ]
            ],
            "type": "heatmap"
           }
          ],
          "heatmapgl": [
           {
            "colorbar": {
             "outlinewidth": 0,
             "ticks": ""
            },
            "colorscale": [
             [
              0,
              "#0d0887"
             ],
             [
              0.1111111111111111,
              "#46039f"
             ],
             [
              0.2222222222222222,
              "#7201a8"
             ],
             [
              0.3333333333333333,
              "#9c179e"
             ],
             [
              0.4444444444444444,
              "#bd3786"
             ],
             [
              0.5555555555555556,
              "#d8576b"
             ],
             [
              0.6666666666666666,
              "#ed7953"
             ],
             [
              0.7777777777777778,
              "#fb9f3a"
             ],
             [
              0.8888888888888888,
              "#fdca26"
             ],
             [
              1,
              "#f0f921"
             ]
            ],
            "type": "heatmapgl"
           }
          ],
          "histogram": [
           {
            "marker": {
             "pattern": {
              "fillmode": "overlay",
              "size": 10,
              "solidity": 0.2
             }
            },
            "type": "histogram"
           }
          ],
          "histogram2d": [
           {
            "colorbar": {
             "outlinewidth": 0,
             "ticks": ""
            },
            "colorscale": [
             [
              0,
              "#0d0887"
             ],
             [
              0.1111111111111111,
              "#46039f"
             ],
             [
              0.2222222222222222,
              "#7201a8"
             ],
             [
              0.3333333333333333,
              "#9c179e"
             ],
             [
              0.4444444444444444,
              "#bd3786"
             ],
             [
              0.5555555555555556,
              "#d8576b"
             ],
             [
              0.6666666666666666,
              "#ed7953"
             ],
             [
              0.7777777777777778,
              "#fb9f3a"
             ],
             [
              0.8888888888888888,
              "#fdca26"
             ],
             [
              1,
              "#f0f921"
             ]
            ],
            "type": "histogram2d"
           }
          ],
          "histogram2dcontour": [
           {
            "colorbar": {
             "outlinewidth": 0,
             "ticks": ""
            },
            "colorscale": [
             [
              0,
              "#0d0887"
             ],
             [
              0.1111111111111111,
              "#46039f"
             ],
             [
              0.2222222222222222,
              "#7201a8"
             ],
             [
              0.3333333333333333,
              "#9c179e"
             ],
             [
              0.4444444444444444,
              "#bd3786"
             ],
             [
              0.5555555555555556,
              "#d8576b"
             ],
             [
              0.6666666666666666,
              "#ed7953"
             ],
             [
              0.7777777777777778,
              "#fb9f3a"
             ],
             [
              0.8888888888888888,
              "#fdca26"
             ],
             [
              1,
              "#f0f921"
             ]
            ],
            "type": "histogram2dcontour"
           }
          ],
          "mesh3d": [
           {
            "colorbar": {
             "outlinewidth": 0,
             "ticks": ""
            },
            "type": "mesh3d"
           }
          ],
          "parcoords": [
           {
            "line": {
             "colorbar": {
              "outlinewidth": 0,
              "ticks": ""
             }
            },
            "type": "parcoords"
           }
          ],
          "pie": [
           {
            "automargin": true,
            "type": "pie"
           }
          ],
          "scatter": [
           {
            "fillpattern": {
             "fillmode": "overlay",
             "size": 10,
             "solidity": 0.2
            },
            "type": "scatter"
           }
          ],
          "scatter3d": [
           {
            "line": {
             "colorbar": {
              "outlinewidth": 0,
              "ticks": ""
             }
            },
            "marker": {
             "colorbar": {
              "outlinewidth": 0,
              "ticks": ""
             }
            },
            "type": "scatter3d"
           }
          ],
          "scattercarpet": [
           {
            "marker": {
             "colorbar": {
              "outlinewidth": 0,
              "ticks": ""
             }
            },
            "type": "scattercarpet"
           }
          ],
          "scattergeo": [
           {
            "marker": {
             "colorbar": {
              "outlinewidth": 0,
              "ticks": ""
             }
            },
            "type": "scattergeo"
           }
          ],
          "scattergl": [
           {
            "marker": {
             "colorbar": {
              "outlinewidth": 0,
              "ticks": ""
             }
            },
            "type": "scattergl"
           }
          ],
          "scattermapbox": [
           {
            "marker": {
             "colorbar": {
              "outlinewidth": 0,
              "ticks": ""
             }
            },
            "type": "scattermapbox"
           }
          ],
          "scatterpolar": [
           {
            "marker": {
             "colorbar": {
              "outlinewidth": 0,
              "ticks": ""
             }
            },
            "type": "scatterpolar"
           }
          ],
          "scatterpolargl": [
           {
            "marker": {
             "colorbar": {
              "outlinewidth": 0,
              "ticks": ""
             }
            },
            "type": "scatterpolargl"
           }
          ],
          "scatterternary": [
           {
            "marker": {
             "colorbar": {
              "outlinewidth": 0,
              "ticks": ""
             }
            },
            "type": "scatterternary"
           }
          ],
          "surface": [
           {
            "colorbar": {
             "outlinewidth": 0,
             "ticks": ""
            },
            "colorscale": [
             [
              0,
              "#0d0887"
             ],
             [
              0.1111111111111111,
              "#46039f"
             ],
             [
              0.2222222222222222,
              "#7201a8"
             ],
             [
              0.3333333333333333,
              "#9c179e"
             ],
             [
              0.4444444444444444,
              "#bd3786"
             ],
             [
              0.5555555555555556,
              "#d8576b"
             ],
             [
              0.6666666666666666,
              "#ed7953"
             ],
             [
              0.7777777777777778,
              "#fb9f3a"
             ],
             [
              0.8888888888888888,
              "#fdca26"
             ],
             [
              1,
              "#f0f921"
             ]
            ],
            "type": "surface"
           }
          ],
          "table": [
           {
            "cells": {
             "fill": {
              "color": "#EBF0F8"
             },
             "line": {
              "color": "white"
             }
            },
            "header": {
             "fill": {
              "color": "#C8D4E3"
             },
             "line": {
              "color": "white"
             }
            },
            "type": "table"
           }
          ]
         },
         "layout": {
          "annotationdefaults": {
           "arrowcolor": "#2a3f5f",
           "arrowhead": 0,
           "arrowwidth": 1
          },
          "autotypenumbers": "strict",
          "coloraxis": {
           "colorbar": {
            "outlinewidth": 0,
            "ticks": ""
           }
          },
          "colorscale": {
           "diverging": [
            [
             0,
             "#8e0152"
            ],
            [
             0.1,
             "#c51b7d"
            ],
            [
             0.2,
             "#de77ae"
            ],
            [
             0.3,
             "#f1b6da"
            ],
            [
             0.4,
             "#fde0ef"
            ],
            [
             0.5,
             "#f7f7f7"
            ],
            [
             0.6,
             "#e6f5d0"
            ],
            [
             0.7,
             "#b8e186"
            ],
            [
             0.8,
             "#7fbc41"
            ],
            [
             0.9,
             "#4d9221"
            ],
            [
             1,
             "#276419"
            ]
           ],
           "sequential": [
            [
             0,
             "#0d0887"
            ],
            [
             0.1111111111111111,
             "#46039f"
            ],
            [
             0.2222222222222222,
             "#7201a8"
            ],
            [
             0.3333333333333333,
             "#9c179e"
            ],
            [
             0.4444444444444444,
             "#bd3786"
            ],
            [
             0.5555555555555556,
             "#d8576b"
            ],
            [
             0.6666666666666666,
             "#ed7953"
            ],
            [
             0.7777777777777778,
             "#fb9f3a"
            ],
            [
             0.8888888888888888,
             "#fdca26"
            ],
            [
             1,
             "#f0f921"
            ]
           ],
           "sequentialminus": [
            [
             0,
             "#0d0887"
            ],
            [
             0.1111111111111111,
             "#46039f"
            ],
            [
             0.2222222222222222,
             "#7201a8"
            ],
            [
             0.3333333333333333,
             "#9c179e"
            ],
            [
             0.4444444444444444,
             "#bd3786"
            ],
            [
             0.5555555555555556,
             "#d8576b"
            ],
            [
             0.6666666666666666,
             "#ed7953"
            ],
            [
             0.7777777777777778,
             "#fb9f3a"
            ],
            [
             0.8888888888888888,
             "#fdca26"
            ],
            [
             1,
             "#f0f921"
            ]
           ]
          },
          "colorway": [
           "#636efa",
           "#EF553B",
           "#00cc96",
           "#ab63fa",
           "#FFA15A",
           "#19d3f3",
           "#FF6692",
           "#B6E880",
           "#FF97FF",
           "#FECB52"
          ],
          "font": {
           "color": "#2a3f5f"
          },
          "geo": {
           "bgcolor": "white",
           "lakecolor": "white",
           "landcolor": "#E5ECF6",
           "showlakes": true,
           "showland": true,
           "subunitcolor": "white"
          },
          "hoverlabel": {
           "align": "left"
          },
          "hovermode": "closest",
          "mapbox": {
           "style": "light"
          },
          "paper_bgcolor": "white",
          "plot_bgcolor": "#E5ECF6",
          "polar": {
           "angularaxis": {
            "gridcolor": "white",
            "linecolor": "white",
            "ticks": ""
           },
           "bgcolor": "#E5ECF6",
           "radialaxis": {
            "gridcolor": "white",
            "linecolor": "white",
            "ticks": ""
           }
          },
          "scene": {
           "xaxis": {
            "backgroundcolor": "#E5ECF6",
            "gridcolor": "white",
            "gridwidth": 2,
            "linecolor": "white",
            "showbackground": true,
            "ticks": "",
            "zerolinecolor": "white"
           },
           "yaxis": {
            "backgroundcolor": "#E5ECF6",
            "gridcolor": "white",
            "gridwidth": 2,
            "linecolor": "white",
            "showbackground": true,
            "ticks": "",
            "zerolinecolor": "white"
           },
           "zaxis": {
            "backgroundcolor": "#E5ECF6",
            "gridcolor": "white",
            "gridwidth": 2,
            "linecolor": "white",
            "showbackground": true,
            "ticks": "",
            "zerolinecolor": "white"
           }
          },
          "shapedefaults": {
           "line": {
            "color": "#2a3f5f"
           }
          },
          "ternary": {
           "aaxis": {
            "gridcolor": "white",
            "linecolor": "white",
            "ticks": ""
           },
           "baxis": {
            "gridcolor": "white",
            "linecolor": "white",
            "ticks": ""
           },
           "bgcolor": "#E5ECF6",
           "caxis": {
            "gridcolor": "white",
            "linecolor": "white",
            "ticks": ""
           }
          },
          "title": {
           "x": 0.05
          },
          "xaxis": {
           "automargin": true,
           "gridcolor": "white",
           "linecolor": "white",
           "ticks": "",
           "title": {
            "standoff": 15
           },
           "zerolinecolor": "white",
           "zerolinewidth": 2
          },
          "yaxis": {
           "automargin": true,
           "gridcolor": "white",
           "linecolor": "white",
           "ticks": "",
           "title": {
            "standoff": 15
           },
           "zerolinecolor": "white",
           "zerolinewidth": 2
          }
         }
        },
        "title": {
         "text": "Network plot show relationships between attributes"
        },
        "xaxis": {
         "showgrid": false,
         "showticklabels": false,
         "zeroline": false
        },
        "yaxis": {
         "showgrid": false,
         "showticklabels": false,
         "zeroline": false
        }
       }
      },
      "text/html": [
       "<div>                            <div id=\"c8447238-c954-45d7-8316-9b1b993da98c\" class=\"plotly-graph-div\" style=\"height:525px; width:100%;\"></div>            <script type=\"text/javascript\">                require([\"plotly\"], function(Plotly) {                    window.PLOTLYENV=window.PLOTLYENV || {};                                    if (document.getElementById(\"c8447238-c954-45d7-8316-9b1b993da98c\")) {                    Plotly.newPlot(                        \"c8447238-c954-45d7-8316-9b1b993da98c\",                        [{\"line\":{\"color\":\"gray\",\"width\":1},\"mode\":\"lines\",\"x\":[-1.0,-0.955572783946991,null,-1.0,-0.8262386918067932,null,-1.0,-0.6234896183013916,null,-1.0,-0.3653410077095032,null,-1.0,-0.0747297927737236,null,-1.0,-0.3653408885002136,null,-1.0,0.22252103686332703,null,-1.0,-0.6234895586967468,null,-1.0,0.49999991059303284,null,-1.0,0.7330520153045654,null,-1.0,0.9009688496589661,null,-1.0,0.9888308644294739,null,-1.0,0.9888308048248291,null,-1.0,0.9009689092636108,null,-1.0,-0.8262389898300171,null,-1.0,0.7330517768859863,null,-1.0,0.49999961256980896,null,-1.0,-0.07473014295101166,null,-0.955572783946991,0.49999991059303284,null,-0.955572783946991,-0.8262386918067932,null,-0.955572783946991,-0.6234896183013916,null,-0.955572783946991,0.7330520153045654,null,-0.955572783946991,0.9009688496589661,null,-0.955572783946991,0.9888308644294739,null,-0.955572783946991,0.9888308048248291,null,-0.955572783946991,-0.8262389898300171,null,-0.955572783946991,0.7330517768859863,null,-0.955572783946991,-0.3653410077095032,null,-0.955572783946991,-0.9555728435516357,null,-0.955572783946991,-0.0747297927737236,null,-0.955572783946991,-0.3653408885002136,null,-0.8262386918067932,-0.6234896183013916,null,-0.8262386918067932,0.7330520153045654,null,-0.8262386918067932,0.9009688496589661,null,-0.8262386918067932,0.9888308048248291,null,-0.8262386918067932,0.7330517768859863,null,-0.8262386918067932,0.49999961256980896,null,-0.8262386918067932,-0.3653410077095032,null,-0.8262386918067932,-0.9555728435516357,null,-0.8262386918067932,0.22252103686332703,null,-0.8262386918067932,-0.6234895586967468,null,-0.8262386918067932,-0.0747297927737236,null,-0.8262386918067932,-0.3653408885002136,null,-0.8262386918067932,-0.07473014295101166,null,-0.6234896183013916,0.7330520153045654,null,-0.6234896183013916,0.9009688496589661,null,-0.6234896183013916,0.9888308644294739,null,-0.6234896183013916,0.49999961256980896,null,-0.6234896183013916,-0.0747297927737236,null,-0.6234896183013916,-0.3653408885002136,null,-0.6234896183013916,0.22252103686332703,null,-0.6234896183013916,-0.6234895586967468,null,-0.3653410077095032,0.7330520153045654,null,-0.3653410077095032,0.9009688496589661,null,-0.3653410077095032,0.9888308644294739,null,0.7330520153045654,0.9009688496589661,null,0.7330520153045654,0.9888308048248291,null,0.7330520153045654,0.49999961256980896,null,0.7330520153045654,-0.9555728435516357,null,0.9009688496589661,0.9888308644294739,null,0.9009688496589661,0.49999961256980896,null,0.9009688496589661,-0.9555728435516357,null,0.9888308644294739,-0.9555728435516357,null],\"y\":[-8.742277657347586e-08,-0.29475530982017517,null,-8.742277657347586e-08,-0.5633201599121094,null,-8.742277657347586e-08,-0.7818316221237183,null,-8.742277657347586e-08,-0.9308737516403198,null,-8.742277657347586e-08,-0.9972038269042969,null,-8.742277657347586e-08,0.9308738112449646,null,-8.742277657347586e-08,-0.9749279022216797,null,-8.742277657347586e-08,0.781831681728363,null,-8.742277657347586e-08,-0.866025447845459,null,-8.742277657347586e-08,-0.6801726222038269,null,-8.742277657347586e-08,-0.43388375639915466,null,-8.742277657347586e-08,-0.14904199540615082,null,-8.742277657347586e-08,0.14904235303401947,null,-8.742277657347586e-08,0.4338836371898651,null,-8.742277657347586e-08,0.563319742679596,null,-8.742277657347586e-08,0.680172860622406,null,-8.742277657347586e-08,0.8660256266593933,null,-8.742277657347586e-08,0.9972037672996521,null,-0.29475530982017517,-0.866025447845459,null,-0.29475530982017517,-0.5633201599121094,null,-0.29475530982017517,-0.7818316221237183,null,-0.29475530982017517,-0.6801726222038269,null,-0.29475530982017517,-0.43388375639915466,null,-0.29475530982017517,-0.14904199540615082,null,-0.29475530982017517,0.14904235303401947,null,-0.29475530982017517,0.563319742679596,null,-0.29475530982017517,0.680172860622406,null,-0.29475530982017517,-0.9308737516403198,null,-0.29475530982017517,0.2947549521923065,null,-0.29475530982017517,-0.9972038269042969,null,-0.29475530982017517,0.9308738112449646,null,-0.5633201599121094,-0.7818316221237183,null,-0.5633201599121094,-0.6801726222038269,null,-0.5633201599121094,-0.43388375639915466,null,-0.5633201599121094,0.14904235303401947,null,-0.5633201599121094,0.680172860622406,null,-0.5633201599121094,0.8660256266593933,null,-0.5633201599121094,-0.9308737516403198,null,-0.5633201599121094,0.2947549521923065,null,-0.5633201599121094,-0.9749279022216797,null,-0.5633201599121094,0.781831681728363,null,-0.5633201599121094,-0.9972038269042969,null,-0.5633201599121094,0.9308738112449646,null,-0.5633201599121094,0.9972037672996521,null,-0.7818316221237183,-0.6801726222038269,null,-0.7818316221237183,-0.43388375639915466,null,-0.7818316221237183,-0.14904199540615082,null,-0.7818316221237183,0.8660256266593933,null,-0.7818316221237183,-0.9972038269042969,null,-0.7818316221237183,0.9308738112449646,null,-0.7818316221237183,-0.9749279022216797,null,-0.7818316221237183,0.781831681728363,null,-0.9308737516403198,-0.6801726222038269,null,-0.9308737516403198,-0.43388375639915466,null,-0.9308737516403198,-0.14904199540615082,null,-0.6801726222038269,-0.43388375639915466,null,-0.6801726222038269,0.14904235303401947,null,-0.6801726222038269,0.8660256266593933,null,-0.6801726222038269,0.2947549521923065,null,-0.43388375639915466,-0.14904199540615082,null,-0.43388375639915466,0.8660256266593933,null,-0.43388375639915466,0.2947549521923065,null,-0.14904199540615082,0.2947549521923065,null],\"type\":\"scatter\"},{\"hoverinfo\":\"text\",\"marker\":{\"color\":\"pink\",\"size\":10},\"mode\":\"markers\",\"text\":[\"age\",\"systolic\",\"fasting blood sugar\",\"Cholesterol\",\"weight(kg)\",\"eyesight(right)\",\"hearing(right)\",\"relaxation\",\"triglyceride\",\"HDL\",\"LDL\",\"hemoglobin\",\"serum creatinine\",\"AST\",\"ALT\",\"Gtp\",\"dental caries\",\"eyesight(left)\",\"hearing(left)\",\"Urine protein\",\"waist(cm)\"],\"x\":[-1.0,-0.955572783946991,-0.8262386918067932,-0.6234896183013916,-0.3653410077095032,-0.0747297927737236,0.22252103686332703,0.49999991059303284,0.7330520153045654,0.9009688496589661,0.9888308644294739,0.9888308048248291,0.9009689092636108,0.7330517768859863,0.49999961256980896,0.22252069413661957,-0.07473014295101166,-0.3653408885002136,-0.6234895586967468,-0.8262389898300171,-0.9555728435516357],\"y\":[-8.742277657347586e-08,-0.29475530982017517,-0.5633201599121094,-0.7818316221237183,-0.9308737516403198,-0.9972038269042969,-0.9749279022216797,-0.866025447845459,-0.6801726222038269,-0.43388375639915466,-0.14904199540615082,0.14904235303401947,0.4338836371898651,0.680172860622406,0.8660256266593933,0.9749279618263245,0.9972037672996521,0.9308738112449646,0.781831681728363,0.563319742679596,0.2947549521923065],\"type\":\"scatter\"}],                        {\"template\":{\"data\":{\"histogram2dcontour\":[{\"type\":\"histogram2dcontour\",\"colorbar\":{\"outlinewidth\":0,\"ticks\":\"\"},\"colorscale\":[[0.0,\"#0d0887\"],[0.1111111111111111,\"#46039f\"],[0.2222222222222222,\"#7201a8\"],[0.3333333333333333,\"#9c179e\"],[0.4444444444444444,\"#bd3786\"],[0.5555555555555556,\"#d8576b\"],[0.6666666666666666,\"#ed7953\"],[0.7777777777777778,\"#fb9f3a\"],[0.8888888888888888,\"#fdca26\"],[1.0,\"#f0f921\"]]}],\"choropleth\":[{\"type\":\"choropleth\",\"colorbar\":{\"outlinewidth\":0,\"ticks\":\"\"}}],\"histogram2d\":[{\"type\":\"histogram2d\",\"colorbar\":{\"outlinewidth\":0,\"ticks\":\"\"},\"colorscale\":[[0.0,\"#0d0887\"],[0.1111111111111111,\"#46039f\"],[0.2222222222222222,\"#7201a8\"],[0.3333333333333333,\"#9c179e\"],[0.4444444444444444,\"#bd3786\"],[0.5555555555555556,\"#d8576b\"],[0.6666666666666666,\"#ed7953\"],[0.7777777777777778,\"#fb9f3a\"],[0.8888888888888888,\"#fdca26\"],[1.0,\"#f0f921\"]]}],\"heatmap\":[{\"type\":\"heatmap\",\"colorbar\":{\"outlinewidth\":0,\"ticks\":\"\"},\"colorscale\":[[0.0,\"#0d0887\"],[0.1111111111111111,\"#46039f\"],[0.2222222222222222,\"#7201a8\"],[0.3333333333333333,\"#9c179e\"],[0.4444444444444444,\"#bd3786\"],[0.5555555555555556,\"#d8576b\"],[0.6666666666666666,\"#ed7953\"],[0.7777777777777778,\"#fb9f3a\"],[0.8888888888888888,\"#fdca26\"],[1.0,\"#f0f921\"]]}],\"heatmapgl\":[{\"type\":\"heatmapgl\",\"colorbar\":{\"outlinewidth\":0,\"ticks\":\"\"},\"colorscale\":[[0.0,\"#0d0887\"],[0.1111111111111111,\"#46039f\"],[0.2222222222222222,\"#7201a8\"],[0.3333333333333333,\"#9c179e\"],[0.4444444444444444,\"#bd3786\"],[0.5555555555555556,\"#d8576b\"],[0.6666666666666666,\"#ed7953\"],[0.7777777777777778,\"#fb9f3a\"],[0.8888888888888888,\"#fdca26\"],[1.0,\"#f0f921\"]]}],\"contourcarpet\":[{\"type\":\"contourcarpet\",\"colorbar\":{\"outlinewidth\":0,\"ticks\":\"\"}}],\"contour\":[{\"type\":\"contour\",\"colorbar\":{\"outlinewidth\":0,\"ticks\":\"\"},\"colorscale\":[[0.0,\"#0d0887\"],[0.1111111111111111,\"#46039f\"],[0.2222222222222222,\"#7201a8\"],[0.3333333333333333,\"#9c179e\"],[0.4444444444444444,\"#bd3786\"],[0.5555555555555556,\"#d8576b\"],[0.6666666666666666,\"#ed7953\"],[0.7777777777777778,\"#fb9f3a\"],[0.8888888888888888,\"#fdca26\"],[1.0,\"#f0f921\"]]}],\"surface\":[{\"type\":\"surface\",\"colorbar\":{\"outlinewidth\":0,\"ticks\":\"\"},\"colorscale\":[[0.0,\"#0d0887\"],[0.1111111111111111,\"#46039f\"],[0.2222222222222222,\"#7201a8\"],[0.3333333333333333,\"#9c179e\"],[0.4444444444444444,\"#bd3786\"],[0.5555555555555556,\"#d8576b\"],[0.6666666666666666,\"#ed7953\"],[0.7777777777777778,\"#fb9f3a\"],[0.8888888888888888,\"#fdca26\"],[1.0,\"#f0f921\"]]}],\"mesh3d\":[{\"type\":\"mesh3d\",\"colorbar\":{\"outlinewidth\":0,\"ticks\":\"\"}}],\"scatter\":[{\"fillpattern\":{\"fillmode\":\"overlay\",\"size\":10,\"solidity\":0.2},\"type\":\"scatter\"}],\"parcoords\":[{\"type\":\"parcoords\",\"line\":{\"colorbar\":{\"outlinewidth\":0,\"ticks\":\"\"}}}],\"scatterpolargl\":[{\"type\":\"scatterpolargl\",\"marker\":{\"colorbar\":{\"outlinewidth\":0,\"ticks\":\"\"}}}],\"bar\":[{\"error_x\":{\"color\":\"#2a3f5f\"},\"error_y\":{\"color\":\"#2a3f5f\"},\"marker\":{\"line\":{\"color\":\"#E5ECF6\",\"width\":0.5},\"pattern\":{\"fillmode\":\"overlay\",\"size\":10,\"solidity\":0.2}},\"type\":\"bar\"}],\"scattergeo\":[{\"type\":\"scattergeo\",\"marker\":{\"colorbar\":{\"outlinewidth\":0,\"ticks\":\"\"}}}],\"scatterpolar\":[{\"type\":\"scatterpolar\",\"marker\":{\"colorbar\":{\"outlinewidth\":0,\"ticks\":\"\"}}}],\"histogram\":[{\"marker\":{\"pattern\":{\"fillmode\":\"overlay\",\"size\":10,\"solidity\":0.2}},\"type\":\"histogram\"}],\"scattergl\":[{\"type\":\"scattergl\",\"marker\":{\"colorbar\":{\"outlinewidth\":0,\"ticks\":\"\"}}}],\"scatter3d\":[{\"type\":\"scatter3d\",\"line\":{\"colorbar\":{\"outlinewidth\":0,\"ticks\":\"\"}},\"marker\":{\"colorbar\":{\"outlinewidth\":0,\"ticks\":\"\"}}}],\"scattermapbox\":[{\"type\":\"scattermapbox\",\"marker\":{\"colorbar\":{\"outlinewidth\":0,\"ticks\":\"\"}}}],\"scatterternary\":[{\"type\":\"scatterternary\",\"marker\":{\"colorbar\":{\"outlinewidth\":0,\"ticks\":\"\"}}}],\"scattercarpet\":[{\"type\":\"scattercarpet\",\"marker\":{\"colorbar\":{\"outlinewidth\":0,\"ticks\":\"\"}}}],\"carpet\":[{\"aaxis\":{\"endlinecolor\":\"#2a3f5f\",\"gridcolor\":\"white\",\"linecolor\":\"white\",\"minorgridcolor\":\"white\",\"startlinecolor\":\"#2a3f5f\"},\"baxis\":{\"endlinecolor\":\"#2a3f5f\",\"gridcolor\":\"white\",\"linecolor\":\"white\",\"minorgridcolor\":\"white\",\"startlinecolor\":\"#2a3f5f\"},\"type\":\"carpet\"}],\"table\":[{\"cells\":{\"fill\":{\"color\":\"#EBF0F8\"},\"line\":{\"color\":\"white\"}},\"header\":{\"fill\":{\"color\":\"#C8D4E3\"},\"line\":{\"color\":\"white\"}},\"type\":\"table\"}],\"barpolar\":[{\"marker\":{\"line\":{\"color\":\"#E5ECF6\",\"width\":0.5},\"pattern\":{\"fillmode\":\"overlay\",\"size\":10,\"solidity\":0.2}},\"type\":\"barpolar\"}],\"pie\":[{\"automargin\":true,\"type\":\"pie\"}]},\"layout\":{\"autotypenumbers\":\"strict\",\"colorway\":[\"#636efa\",\"#EF553B\",\"#00cc96\",\"#ab63fa\",\"#FFA15A\",\"#19d3f3\",\"#FF6692\",\"#B6E880\",\"#FF97FF\",\"#FECB52\"],\"font\":{\"color\":\"#2a3f5f\"},\"hovermode\":\"closest\",\"hoverlabel\":{\"align\":\"left\"},\"paper_bgcolor\":\"white\",\"plot_bgcolor\":\"#E5ECF6\",\"polar\":{\"bgcolor\":\"#E5ECF6\",\"angularaxis\":{\"gridcolor\":\"white\",\"linecolor\":\"white\",\"ticks\":\"\"},\"radialaxis\":{\"gridcolor\":\"white\",\"linecolor\":\"white\",\"ticks\":\"\"}},\"ternary\":{\"bgcolor\":\"#E5ECF6\",\"aaxis\":{\"gridcolor\":\"white\",\"linecolor\":\"white\",\"ticks\":\"\"},\"baxis\":{\"gridcolor\":\"white\",\"linecolor\":\"white\",\"ticks\":\"\"},\"caxis\":{\"gridcolor\":\"white\",\"linecolor\":\"white\",\"ticks\":\"\"}},\"coloraxis\":{\"colorbar\":{\"outlinewidth\":0,\"ticks\":\"\"}},\"colorscale\":{\"sequential\":[[0.0,\"#0d0887\"],[0.1111111111111111,\"#46039f\"],[0.2222222222222222,\"#7201a8\"],[0.3333333333333333,\"#9c179e\"],[0.4444444444444444,\"#bd3786\"],[0.5555555555555556,\"#d8576b\"],[0.6666666666666666,\"#ed7953\"],[0.7777777777777778,\"#fb9f3a\"],[0.8888888888888888,\"#fdca26\"],[1.0,\"#f0f921\"]],\"sequentialminus\":[[0.0,\"#0d0887\"],[0.1111111111111111,\"#46039f\"],[0.2222222222222222,\"#7201a8\"],[0.3333333333333333,\"#9c179e\"],[0.4444444444444444,\"#bd3786\"],[0.5555555555555556,\"#d8576b\"],[0.6666666666666666,\"#ed7953\"],[0.7777777777777778,\"#fb9f3a\"],[0.8888888888888888,\"#fdca26\"],[1.0,\"#f0f921\"]],\"diverging\":[[0,\"#8e0152\"],[0.1,\"#c51b7d\"],[0.2,\"#de77ae\"],[0.3,\"#f1b6da\"],[0.4,\"#fde0ef\"],[0.5,\"#f7f7f7\"],[0.6,\"#e6f5d0\"],[0.7,\"#b8e186\"],[0.8,\"#7fbc41\"],[0.9,\"#4d9221\"],[1,\"#276419\"]]},\"xaxis\":{\"gridcolor\":\"white\",\"linecolor\":\"white\",\"ticks\":\"\",\"title\":{\"standoff\":15},\"zerolinecolor\":\"white\",\"automargin\":true,\"zerolinewidth\":2},\"yaxis\":{\"gridcolor\":\"white\",\"linecolor\":\"white\",\"ticks\":\"\",\"title\":{\"standoff\":15},\"zerolinecolor\":\"white\",\"automargin\":true,\"zerolinewidth\":2},\"scene\":{\"xaxis\":{\"backgroundcolor\":\"#E5ECF6\",\"gridcolor\":\"white\",\"linecolor\":\"white\",\"showbackground\":true,\"ticks\":\"\",\"zerolinecolor\":\"white\",\"gridwidth\":2},\"yaxis\":{\"backgroundcolor\":\"#E5ECF6\",\"gridcolor\":\"white\",\"linecolor\":\"white\",\"showbackground\":true,\"ticks\":\"\",\"zerolinecolor\":\"white\",\"gridwidth\":2},\"zaxis\":{\"backgroundcolor\":\"#E5ECF6\",\"gridcolor\":\"white\",\"linecolor\":\"white\",\"showbackground\":true,\"ticks\":\"\",\"zerolinecolor\":\"white\",\"gridwidth\":2}},\"shapedefaults\":{\"line\":{\"color\":\"#2a3f5f\"}},\"annotationdefaults\":{\"arrowcolor\":\"#2a3f5f\",\"arrowhead\":0,\"arrowwidth\":1},\"geo\":{\"bgcolor\":\"white\",\"landcolor\":\"#E5ECF6\",\"subunitcolor\":\"white\",\"showland\":true,\"showlakes\":true,\"lakecolor\":\"white\"},\"title\":{\"x\":0.05},\"mapbox\":{\"style\":\"light\"}}},\"xaxis\":{\"showgrid\":false,\"zeroline\":false,\"showticklabels\":false},\"yaxis\":{\"showgrid\":false,\"zeroline\":false,\"showticklabels\":false},\"showlegend\":false,\"hovermode\":\"closest\",\"title\":{\"text\":\"Network plot show relationships between attributes\"}},                        {\"responsive\": true}                    ).then(function(){\n",
       "                            \n",
       "var gd = document.getElementById('c8447238-c954-45d7-8316-9b1b993da98c');\n",
       "var x = new MutationObserver(function (mutations, observer) {{\n",
       "        var display = window.getComputedStyle(gd).display;\n",
       "        if (!display || display === 'none') {{\n",
       "            console.log([gd, 'removed!']);\n",
       "            Plotly.purge(gd);\n",
       "            observer.disconnect();\n",
       "        }}\n",
       "}});\n",
       "\n",
       "// Listen for the removal of the full notebook cells\n",
       "var notebookContainer = gd.closest('#notebook-container');\n",
       "if (notebookContainer) {{\n",
       "    x.observe(notebookContainer, {childList: true});\n",
       "}}\n",
       "\n",
       "// Listen for the clearing of the current output cell\n",
       "var outputEl = gd.closest('.output');\n",
       "if (outputEl) {{\n",
       "    x.observe(outputEl, {childList: true});\n",
       "}}\n",
       "\n",
       "                        })                };                });            </script>        </div>"
      ]
     },
     "metadata": {},
     "output_type": "display_data"
    }
   ],
   "source": [
    "import networkx as nx\n",
    "import plotly.graph_objects as go\n",
    "# إعداد الشبكة\n",
    "network = nx.Graph()\n",
    "# إضافة عقد (nodes)\n",
    "network.add_nodes_from(['age', 'systolic', 'fasting blood sugar', 'Cholesterol', 'weight(kg)', 'fasting blood sugar',\n",
    "                        'eyesight(right)', 'hearing(right)', 'relaxation', 'triglyceride', 'HDL', 'LDL', 'hemoglobin',\n",
    "                        'serum creatinine', 'AST', 'ALT', 'Gtp', 'dental caries'])\n",
    "# إضافة ربطات (edges)\n",
    "network.add_edges_from([\n",
    "    ('age', 'systolic'),\n",
    "    ('age', 'fasting blood sugar'),\n",
    "    ('age', 'Cholesterol'),\n",
    "    ('age', 'weight(kg)'),\n",
    "    ('age', 'fasting blood sugar'),\n",
    "    ('age', 'eyesight(right)'),\n",
    "    ('age', 'eyesight(left)'),\n",
    "    ('age', 'hearing(right)'),\n",
    "    ('age', 'hearing(left)'),\n",
    "    ('age', 'relaxation'),\n",
    "    ('age', 'triglyceride'),\n",
    "    ('age', 'HDL'),\n",
    "    ('age', 'LDL'),\n",
    "    ('age', 'hemoglobin'),\n",
    "    ('age', 'serum creatinine'),\n",
    "    ('age', 'Urine protein'),\n",
    "    ('age', 'AST'),\n",
    "    ('age', 'ALT'),\n",
    "    ('age', 'dental caries'),\n",
    "    \n",
    "    ('systolic','relaxation'),\n",
    "    ('systolic','fasting blood sugar'),\n",
    "    ('systolic','Cholesterol'),\n",
    "    ('systolic','triglyceride'),\n",
    "    ('systolic','HDL'),\n",
    "    ('systolic','LDL'),\n",
    "    ('systolic','hemoglobin'),\n",
    "    ('systolic','Urine protein'),\n",
    "    ('systolic','AST'),\n",
    "    ('systolic','weight(kg)'),\n",
    "    ('systolic','waist(cm)'),\n",
    "    ('systolic','eyesight(right)'),\n",
    "    ('systolic','eyesight(left)'),\n",
    "      \n",
    "    ('fasting blood sugar','Cholesterol'),\n",
    "    ('fasting blood sugar','triglyceride'),\n",
    "    ('fasting blood sugar','HDL'),\n",
    "    ('fasting blood sugar','hemoglobin'),\n",
    "    ('fasting blood sugar','AST'),\n",
    "    ('fasting blood sugar','ALT'),\n",
    "    ('fasting blood sugar','weight(kg)'),\n",
    "    ('fasting blood sugar','waist(cm)'),\n",
    "    ('fasting blood sugar','hearing(right)'),\n",
    "    ('fasting blood sugar','hearing(left)'),\n",
    "    ('fasting blood sugar','eyesight(right)'),\n",
    "    ('fasting blood sugar','eyesight(left)'),\n",
    "    ('fasting blood sugar','dental caries'),\n",
    "   \n",
    "    ('Cholesterol','triglyceride'),\n",
    "    ('Cholesterol','HDL'),\n",
    "    ('Cholesterol','LDL'),\n",
    "    ('Cholesterol','ALT'),\n",
    "    ('Cholesterol','eyesight(right)'),\n",
    "    ('Cholesterol','eyesight(left)'),\n",
    "    ('Cholesterol','hearing(right)'),\n",
    "    ('Cholesterol','hearing(left)'),\n",
    "    \n",
    "    ('triglyceride','HDL'),\n",
    "    ('triglyceride','hemoglobin'),\n",
    "    ('triglyceride','ALT'),\n",
    "    ('triglyceride','weight(kg)'),\n",
    "    ('triglyceride','waist(cm)'),\n",
    "    \n",
    "    ('HDL','LDL'),\n",
    "    ('HDL','ALT'),\n",
    "    ('HDL','weight(kg)'),\n",
    "    ('HDL','waist(cm)'),\n",
    "    \n",
    "    ('LDL','Cholesterol'),\n",
    "    ('LDL','weight(kg)'),\n",
    "    ('LDL','waist(cm)')\n",
    "])\n",
    "\n",
    "# Create positions using shell layout\n",
    "position = nx.shell_layout(network)\n",
    "\n",
    "# Create edge trace\n",
    "edge_x = []\n",
    "edge_y = []\n",
    "for edge in network.edges():\n",
    "    x0, y0 = position[edge[0]]\n",
    "    x1, y1 = position[edge[1]]\n",
    "    edge_x.extend([x0, x1, None])\n",
    "    edge_y.extend([y0, y1, None])\n",
    "\n",
    "# Create node trace\n",
    "node_x = [position[node][0] for node in network.nodes()]\n",
    "node_y = [position[node][1] for node in network.nodes()]\n",
    "\n",
    "# Create text labels for nodes\n",
    "node_text = list(network.nodes())\n",
    "\n",
    "# Create figure\n",
    "fig = go.Figure()\n",
    "\n",
    "# Add edges\n",
    "fig.add_trace(go.Scatter(x=edge_x, y=edge_y, mode='lines', line=dict(color='gray', width=1)))\n",
    "\n",
    "# Add nodes\n",
    "fig.add_trace(go.Scatter(x=node_x, y=node_y, mode='markers',\n",
    "                         marker=dict(color='pink', size=10), text=node_text, hoverinfo='text'))\n",
    "\n",
    "#Set axis properties\n",
    "fig.update_layout(\n",
    "    showlegend=False,\n",
    "    hovermode='closest',\n",
    "    title='Network plot show relationships between attributes',\n",
    "    xaxis=dict(showgrid=False, zeroline=False, showticklabels=False),\n",
    "    yaxis=dict(showgrid=False, zeroline=False, showticklabels=False)\n",
    ")\n",
    "# Show the figure\n",
    "fig.show()\n"
   ]
  },
  {
   "cell_type": "code",
   "execution_count": null,
   "id": "14d6a1cf",
   "metadata": {},
   "outputs": [],
   "source": []
  }
 ],
 "metadata": {
  "kernelspec": {
   "display_name": "Python 3 (ipykernel)",
   "language": "python",
   "name": "python3"
  },
  "language_info": {
   "codemirror_mode": {
    "name": "ipython",
    "version": 3
   },
   "file_extension": ".py",
   "mimetype": "text/x-python",
   "name": "python",
   "nbconvert_exporter": "python",
   "pygments_lexer": "ipython3",
   "version": "3.11.5"
  }
 },
 "nbformat": 4,
 "nbformat_minor": 5
}
